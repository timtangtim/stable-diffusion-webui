{
  "cells": [
    {
      "cell_type": "markdown",
      "source": [
        "# 1. Setup the web ui"
      ],
      "metadata": {
        "id": "bsiZpfkU7S77"
      }
    },
    {
      "cell_type": "code",
      "execution_count": null,
      "metadata": {
        "id": "sBbcB4vwj_jm"
      },
      "outputs": [],
      "source": [
        "!pip install --upgrade fastapi==0.90.1\n",
        "!git clone https://github.com/AUTOMATIC1111/stable-diffusion-webui\n",
        "!git clone https://github.com/yfszzx/stable-diffusion-webui-images-browser /content/stable-diffusion-webui/extensions/stable-diffusion-webui-images-browser\n",
        "\n",
        "# Model(s) setup\n",
        "# Below are model code for ChilloutMix, we always could change it to our desired model (how-to: https://youtu.be/vj-QrS_mWQI or https://youtu.be/MwyfwPFezvY)\n",
        "!curl -Lo chilloutmixni.safetensors https://huggingface.co/nolanaatama/chomni/resolve/main/chomni.safetensors\n",
        "!mv \"/content/chilloutmixni.safetensors\" \"/content/stable-diffusion-webui/models/Stable-diffusion\"\n"
      ]
    },
    {
      "cell_type": "markdown",
      "source": [
        "# 2. After the gradio link show up, stop the first cell & clear the code output👆"
      ],
      "metadata": {
        "id": "JUtPlg328avv"
      }
    },
    {
      "cell_type": "markdown",
      "source": [
        "# 3. Load the Embeddings"
      ],
      "metadata": {
        "id": "ZxlQjnNr4VUj"
      }
    },
    {
      "cell_type": "code",
      "source": [
        "# Additional embeddings\n",
        "%cd /content\n",
        "!curl -Lo ulzzang-6500.pt https://huggingface.co/nolanaatama/chomni/resolve/main/ulzzang-6500.pt\n",
        "!mv \"/content/ulzzang-6500.pt\" \"/content/stable-diffusion-webui/embeddings\"\n",
        "\n",
        "!curl -Lo corneo_covering_breasts_one_arm.pt https://civitai.com/api/download/models/6034\n",
        "!mv \"/content/corneo_covering_breasts_one_arm.pt\" \"/content/stable-diffusion-webui/embeddings\"\n"
      ],
      "metadata": {
        "id": "Jy1lpM794O5O",
        "colab": {
          "base_uri": "https://localhost:8080/"
        },
        "outputId": "dfd64cff-6c9b-4c08-ae58-4fd379a4c541"
      },
      "execution_count": 3,
      "outputs": [
        {
          "output_type": "stream",
          "name": "stdout",
          "text": [
            "Interrupted with signal 2 in <frame at 0x406ab3b0, file '/content/stable-diffusion-webui/webui.py', line 164, code wait_on_server>\n"
          ]
        }
      ]
    },
    {
      "cell_type": "markdown",
      "source": [
        "#4. Pre-launch the web ui"
      ],
      "metadata": {
        "id": "tC5ZGr3WkdUj"
      }
    },
    {
      "cell_type": "code",
      "source": [
        "%cd /content/stable-diffusion-webui\n",
        "!git checkout 91c8d0d\n",
        "!COMMANDLINE_ARGS=\"--share --disable-safe-unpickle --enable-insecure-extension-access\" REQS_FILE=\"requirements.txt\" python launch.py"
      ],
      "metadata": {
        "id": "wWeyMh95kczN"
      },
      "execution_count": null,
      "outputs": []
    },
    {
      "cell_type": "markdown",
      "source": [
        "# 5. After the gradio link show up, stop the first cell & clear the code output👆"
      ],
      "metadata": {
        "id": "G2mufdAOkods"
      }
    },
    {
      "cell_type": "markdown",
      "source": [
        "# 6. Load the LoRA"
      ],
      "metadata": {
        "id": "qxhOCPrg7WXm"
      }
    },
    {
      "cell_type": "code",
      "source": [
        "\n",
        "\n",
        "!curl -Lo koreanDollLikeness_v10.safetensors https://huggingface.co/nolanaatama/kdllora/resolve/main/kdllora.safetensors\n",
        "!mv \"/content/stable-diffusion-webui/koreanDollLikeness_v10.safetensors\" \"/content/stable-diffusion-webui/models/Lora\"\n",
        "\n",
        "!curl -Lo japaneseDollLikeness_v10.safetensors https://huggingface.co/nolanaatama/jdllora/blob/main/jdllora.safetensors\n",
        "!mv \"/content/stable-diffusion-webui/japaneseDollLikeness_v10.safetensors\" \"/content/stable-diffusion-webui/models/Lora\"\n",
        "\n",
        "!curl -Lo breastinclassBetter_v13.safetensors https://civitai.com/api/download/models/13300\n",
        "!mv \"/content/stable-diffusion-webui/breastinclassBetter_v13.safetensors\" \"/content/stable-diffusion-webui/models/Lora\"\n",
        "\n",
        "!curl -Lo inniesBetterVaginas_v11.safetensors https://civitai.com/api/download/models/12873\n",
        "!mv \"/content/stable-diffusion-webui/inniesBetterVaginas_v11.safetensors\" \"/content/stable-diffusion-webui/models/Lora\"\n"
      ],
      "metadata": {
        "id": "pZVeLcbD70Lf"
      },
      "execution_count": null,
      "outputs": []
    },
    {
      "cell_type": "markdown",
      "source": [
        "# 7.  Launch the web ui"
      ],
      "metadata": {
        "id": "ykWIfv4Wz0Kk"
      }
    },
    {
      "cell_type": "code",
      "source": [
        "!COMMANDLINE_ARGS=\"--share --disable-safe-unpickle --no-half-vae --xformers --reinstall-xformers --enable-insecure-extension-access\" REQS_FILE=\"requirements.txt\" python launch.py"
      ],
      "metadata": {
        "id": "UW7ZfstWzmj2",
        "colab": {
          "base_uri": "https://localhost:8080/"
        },
        "outputId": "14fd54b7-0def-472b-e56e-3ce571b9e66a"
      },
      "execution_count": 1,
      "outputs": [
        {
          "output_type": "stream",
          "name": "stdout",
          "text": [
            "python3: can't open file 'launch.py': [Errno 2] No such file or directory\n"
          ]
        }
      ]
    },
    {
      "cell_type": "markdown",
      "metadata": {
        "id": "fhwIXzcgfkoR"
      },
      "source": [
        "# 📚 GitHub for more: [_@nolanaatama_](https://github.com/nolanaatama)\n",
        "# 📦 Repo: [Github](https://github.com/nolanaatama/sd-1click-colab)"
      ]
    }
  ],
  "metadata": {
    "accelerator": "GPU",
    "colab": {
      "provenance": []
    },
    "gpuClass": "standard",
    "kernelspec": {
      "display_name": "Python 3",
      "name": "python3"
    },
    "language_info": {
      "name": "python"
    }
  },
  "nbformat": 4,
  "nbformat_minor": 0
}